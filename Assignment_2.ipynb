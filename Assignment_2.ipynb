{
 "cells": [
  {
   "cell_type": "code",
   "execution_count": 1,
   "id": "5cc4cb20",
   "metadata": {},
   "outputs": [
    {
     "name": "stdout",
     "output_type": "stream",
     "text": [
      "True <class 'bool'>\n",
      "False <class 'bool'>\n"
     ]
    }
   ],
   "source": [
    "#1. What are the two values of the boolean data types? how do you write them ?\n",
    "#Ans:- True and False are two values of the boolean data types, we use them as 'True' and 'False'.\n",
    "a = True\n",
    "b = False\n",
    "print (a,type(a))\n",
    "print (b,type(b))"
   ]
  },
  {
   "cell_type": "code",
   "execution_count": 2,
   "id": "1d75a273",
   "metadata": {},
   "outputs": [
    {
     "name": "stdout",
     "output_type": "stream",
     "text": [
      "True\n",
      "True\n",
      "False\n"
     ]
    }
   ],
   "source": [
    "#2. What are the three different types of Boolean operators?\n",
    "#Ans:- are, and , not are the three boolean operators.\n",
    "x = 50\n",
    "y = 70\n",
    "print(x>20 and y>40)#example of 'and'\n",
    "print(x>100 or y>40)#example of 'or'\n",
    "print(not(x>10))#example of 'not'\n"
   ]
  },
  {
   "cell_type": "code",
   "execution_count": null,
   "id": "4fe9bbe9",
   "metadata": {},
   "outputs": [],
   "source": [
    "#3. Make a list of each Boolean operator's truth tables (i.e. every possible combination of Boolean values for the operator and what it evaluate) ?\n",
    "# Ans:- The Truth Table of Boolean operators are:-\n",
    "'''\n",
    "Truth Table for 'and' operaotor:-\n",
    "\n",
    "True and True is True\n",
    "True and False is False\n",
    "False and True is False\n",
    "False and False is False\n",
    "'''\n",
    "'''\n",
    "Truth Table for 'or' operaotor:-\n",
    "\n",
    "True and True is True\n",
    "True and False is True\n",
    "False and True is True\n",
    "False and False is False\n",
    "'''\n",
    "'''\n",
    "Truth Table for 'not' operaotor:-\n",
    "True not is False\n",
    "False not is True\n",
    "'''\n",
    "\n",
    "\n"
   ]
  },
  {
   "cell_type": "code",
   "execution_count": 4,
   "id": "ad7a4b0b",
   "metadata": {},
   "outputs": [
    {
     "name": "stdout",
     "output_type": "stream",
     "text": [
      "False\n",
      "False\n",
      "True\n",
      "False\n",
      "False\n",
      "True\n"
     ]
    }
   ],
   "source": [
    "#4. What are the values of the following expressions ?\n",
    "'''\n",
    "(5 > 4) and (3 == 5)\n",
    "not (5 > 4)\n",
    "(5 > 4) or (3 == 5)\n",
    "not ((5 > 4) or (3 == 5))\n",
    "(True and True) and (True == False)\n",
    "(not False) or (not True)\n",
    "\n",
    "'''\n",
    "\n",
    "print((5 > 4) and (3 == 5)) #False\n",
    "print(not (5 > 4))#False\n",
    "print((5 > 4) or (3 == 5))#True\n",
    "print(not ((5 > 4) or (3 == 5)))#False\n",
    "print((True and True) and (True == False))#False\n",
    "print((not False) or (not True))#True\n",
    "\n",
    "\n"
   ]
  },
  {
   "cell_type": "code",
   "execution_count": null,
   "id": "1192189d",
   "metadata": {},
   "outputs": [],
   "source": [
    "#5. What are the six comparison operators?\n",
    "#Ans:- The six comparison operators are:- == , != , < , > , <= , =>."
   ]
  },
  {
   "cell_type": "code",
   "execution_count": 6,
   "id": "714b5b8c",
   "metadata": {},
   "outputs": [
    {
     "name": "stdout",
     "output_type": "stream",
     "text": [
      "True\n"
     ]
    }
   ],
   "source": [
    "#6. How do you tell the difference between the equal to and assignment operators?Describe a condition and when you would use one ?\n",
    "#Ans:-  == is the equal to operator that compares two values and evaluates to a Boolean\n",
    "#Whereas = is that assignment operator that stores a value in a variable.\n",
    "\n",
    "a = 5 # here value of a is stored as 5\n",
    "if a == 5: #comparing values of variable 'a' and value 5\n",
    "    print(a==5)"
   ]
  },
  {
   "cell_type": "code",
   "execution_count": 8,
   "id": "b50101f6",
   "metadata": {},
   "outputs": [
    {
     "name": "stdout",
     "output_type": "stream",
     "text": [
      "ham\n",
      "spam\n",
      "spam\n"
     ]
    }
   ],
   "source": [
    "#7. Identify the three blocks in this code:\n",
    "'''\n",
    "spam = 0\n",
    "if spam == 10:\n",
    "print('eggs')\n",
    "if spam > 5:\n",
    "print('bacon')\n",
    "else:\n",
    "print('ham')\n",
    "print('spam')\n",
    "print('spam')\n",
    "'''\n",
    "#Ans:- \n",
    "spam = 0\n",
    "if spam == 10:\n",
    "    print('eggs')#block 1\n",
    "if spam > 5:\n",
    "    print('bacon')#block 2\n",
    "else:\n",
    "    print('ham')#block 3 \n",
    "print('spam')\n",
    "print('spam')"
   ]
  },
  {
   "cell_type": "code",
   "execution_count": 11,
   "id": "567529f8",
   "metadata": {},
   "outputs": [
    {
     "name": "stdout",
     "output_type": "stream",
     "text": [
      "Enter the value for spam: 1\n",
      "Hello\n"
     ]
    }
   ],
   "source": [
    "#8. Write code that prints Hello if 1 is stored in spam, prints Howdy if 2 is stored in spam, and prints Greetings! if anything else is stored in spam.\n",
    "spam = int(input(\"Enter the value for spam: \"))\n",
    "if spam == 1:\n",
    "    print (\"Hello\")\n",
    "elif spam == 2:\n",
    "    print (\"Howdy\")\n",
    "else:\n",
    "    print(\"Greetings\")"
   ]
  },
  {
   "cell_type": "code",
   "execution_count": null,
   "id": "73798060",
   "metadata": {},
   "outputs": [],
   "source": [
    "#9.If your programme is stuck in an endless loop, what keys you’ll press?\n",
    "#Ans:- Press Ctrl-c to stop a progam stuck in an infinite loop."
   ]
  },
  {
   "cell_type": "code",
   "execution_count": null,
   "id": "aa66f73b",
   "metadata": {},
   "outputs": [],
   "source": [
    "#10. How can you tell the difference between break and continue?\n",
    "#Ans:- The break statement will move the execution outside the loop if break condtion is satisfied. Whereas the continue statement will move the execution to the start of the loop."
   ]
  },
  {
   "cell_type": "code",
   "execution_count": null,
   "id": "e0648144",
   "metadata": {},
   "outputs": [],
   "source": [
    "#11. In a for loop, what is the difference between range(10), range(0, 10), and range(0, 10, 1)?\n",
    "#Ans:- The diffrence is :-\n",
    "\"\"\"\n",
    "1. The range(10) call range from 0 to 9 (but not include 10)\n",
    "2. The range (0,10) explicitly tells the loop to start at 0\n",
    "3. The range(0,10,1) explicitly tells the loop to increase the variable by 1 on each iteration\n",
    "\"\"\""
   ]
  },
  {
   "cell_type": "code",
   "execution_count": null,
   "id": "2e1fc25a",
   "metadata": {},
   "outputs": [],
   "source": [
    "#12. Write a short program that prints the numbers 1 to 10 using a for loop. Then write an equivalent program that prints the numbers 1 to 10 using a while loop ?\n",
    "print (\"-\"*5, 'Using for Loop','-'*5)\n",
    "for i in range (1,11):\n",
    "    print (i,end=\" \")\n",
    "print ('\\n')\n",
    "\n",
    "print ('-'*5,'Using While Loop','-'*5)\n",
    "i=1\n",
    "while i<= 10:\n",
    "    print (i, end=\" \")\n",
    "    i+=1"
   ]
  },
  {
   "cell_type": "code",
   "execution_count": null,
   "id": "d19034dd",
   "metadata": {},
   "outputs": [],
   "source": [
    "#13. If you had a function named bacon() inside a module named spam, how would you call it after importing spam ?\n",
    "#Ans:- This Function can be called with spam.bacon()"
   ]
  },
  {
   "cell_type": "code",
   "execution_count": null,
   "id": "6a42eb9c",
   "metadata": {},
   "outputs": [],
   "source": []
  }
 ],
 "metadata": {
  "kernelspec": {
   "display_name": "Python 3 (ipykernel)",
   "language": "python",
   "name": "python3"
  },
  "language_info": {
   "codemirror_mode": {
    "name": "ipython",
    "version": 3
   },
   "file_extension": ".py",
   "mimetype": "text/x-python",
   "name": "python",
   "nbconvert_exporter": "python",
   "pygments_lexer": "ipython3",
   "version": "3.9.12"
  }
 },
 "nbformat": 4,
 "nbformat_minor": 5
}
