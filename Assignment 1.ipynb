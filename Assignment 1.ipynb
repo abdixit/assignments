{
 "cells": [
  {
   "cell_type": "code",
   "execution_count": 1,
   "id": "9604fcbf",
   "metadata": {},
   "outputs": [],
   "source": [
    "#1. In the below elements which of them are values or an expression?\n",
    "#Ans:- (*,-,/,+) ---Expression and ('hello', -87.8,6)"
   ]
  },
  {
   "cell_type": "code",
   "execution_count": 3,
   "id": "b840bfca",
   "metadata": {},
   "outputs": [],
   "source": [
    "#2. What is the diffrence between string and variable?\n",
    "#Ans:-String is anything that can be written in quotes for example: \"Abhishek\",'Abhishek'\n",
    "# and variable is like a container in which we store data."
   ]
  },
  {
   "cell_type": "code",
   "execution_count": 6,
   "id": "19de08e7",
   "metadata": {},
   "outputs": [
    {
     "data": {
      "text/plain": [
       "'Ans:- Integer: This data type can store only numerical values\\nFloat: This data type can store only floating values as 55.63,96.68\\nList: it is used to store multiple data items in single variable.'"
      ]
     },
     "execution_count": 6,
     "metadata": {},
     "output_type": "execute_result"
    }
   ],
   "source": [
    "#3.Describe three diffrent data types.\n",
    "'''Ans:- Integer: This data type can store only numerical values\n",
    "Float: This data type can store only floating values as 55.63,96.68\n",
    "List: it is used to store multiple data items in single variable.'''"
   ]
  },
  {
   "cell_type": "code",
   "execution_count": null,
   "id": "6f1dce6b",
   "metadata": {},
   "outputs": [],
   "source": [
    "#4. What is an expression made up of? What do all expressions do? \n",
    "\n",
    "'''Expression is made up of values, containers, and mathematical operators (operands) such as,\n",
    "c = 8+7 and expressions are used to evaluate the values or represent the result on the screen.'''"
   ]
  },
  {
   "cell_type": "code",
   "execution_count": null,
   "id": "6df3a973",
   "metadata": {},
   "outputs": [],
   "source": [
    "#5. This assignment statements. like spam = 10, What is the diffrence between an expression and a statement?\n",
    "'''Expression is madeup of values, containers and mathematical operators and \n",
    "statement is just like a command that a python interpreter executes like :print'''"
   ]
  },
  {
   "cell_type": "code",
   "execution_count": 7,
   "id": "68afeac9",
   "metadata": {},
   "outputs": [
    {
     "data": {
      "text/plain": [
       "23"
      ]
     },
     "execution_count": 7,
     "metadata": {},
     "output_type": "execute_result"
    }
   ],
   "source": [
    "#6.After running the following code, What does the variable bacon contain?\n",
    "bacon = 22 \n",
    "bacon +1\n",
    "# Ans: bacon value increases by 1 so it becomes 23."
   ]
  },
  {
   "cell_type": "code",
   "execution_count": 9,
   "id": "663a0758",
   "metadata": {},
   "outputs": [
    {
     "data": {
      "text/plain": [
       "'spamspamspam'"
      ]
     },
     "execution_count": 9,
     "metadata": {},
     "output_type": "execute_result"
    }
   ],
   "source": [
    "#7.What should the values of the following two terms be?\n",
    "'spam'+'spamspam'\n",
    "'spam'*3\n",
    "#Ans: It will be same"
   ]
  },
  {
   "cell_type": "code",
   "execution_count": null,
   "id": "b7944fce",
   "metadata": {},
   "outputs": [],
   "source": [
    "#8.Why is eggs a valid variable name while 100 is invalid?\n",
    "# It is because we cannot give variable an integer name, but we can choose alphanumeric such as, e100, g100."
   ]
  },
  {
   "cell_type": "code",
   "execution_count": null,
   "id": "d80ff6cf",
   "metadata": {},
   "outputs": [],
   "source": [
    "#9.What three functions can be used to get the integer, floating-point number, or string version of a value?\n",
    "# ans:int(),float(), str()"
   ]
  },
  {
   "cell_type": "code",
   "execution_count": 12,
   "id": "c2e3ca00",
   "metadata": {},
   "outputs": [
    {
     "data": {
      "text/plain": [
       "'I have eaten 99 burritos'"
      ]
     },
     "execution_count": 12,
     "metadata": {},
     "output_type": "execute_result"
    }
   ],
   "source": [
    "#10. why does ths expression cause an error? How can you fix it?\n",
    "#'I have eaten'+ 99 + 'burritos'\n",
    "#ans: because 99 is an integer and it cannot be concatenated with strings, if we have to concatenate if we need to do typecasting.\n",
    "#'I have eaten'+ ' 99 ' + 'burritos'"
   ]
  },
  {
   "cell_type": "code",
   "execution_count": null,
   "id": "ddf5924a",
   "metadata": {},
   "outputs": [],
   "source": []
  }
 ],
 "metadata": {
  "kernelspec": {
   "display_name": "Python 3 (ipykernel)",
   "language": "python",
   "name": "python3"
  },
  "language_info": {
   "codemirror_mode": {
    "name": "ipython",
    "version": 3
   },
   "file_extension": ".py",
   "mimetype": "text/x-python",
   "name": "python",
   "nbconvert_exporter": "python",
   "pygments_lexer": "ipython3",
   "version": "3.9.12"
  }
 },
 "nbformat": 4,
 "nbformat_minor": 5
}
